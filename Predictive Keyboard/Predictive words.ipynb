{
 "cells": [
  {
   "cell_type": "markdown",
   "metadata": {},
   "source": [
    "# Predictive Keyboard\n",
    "\n",
    "## Recurrent Neural Network\n",
    "RNN are simple Neural Network with hidden layers more than one. RNN models provide a way to not only examine the current input but also provide one step back"
   ]
  },
  {
   "cell_type": "markdown",
   "metadata": {},
   "source": [
    "## LSTMs \n",
    "There are two problems with RNNS-Vanishing and exploding gradient. In RNNs the gradient signal can be multiplied a large number of times by the weight matrix. Thus, the magnitude of the weights of the transition matrix can play an important role."
   ]
  },
  {
   "cell_type": "markdown",
   "metadata": {},
   "source": [
    "### Gradients\n",
    "If the weights in the martrix are small, the gradient signal becomes smaller at every training step, thus learning becomes very slow or completely stops. This is called Vanishing gradient."
   ]
  },
  {
   "cell_type": "markdown",
   "metadata": {},
   "source": [
    "## Setup\n",
    "Import all required modules"
   ]
  },
  {
   "cell_type": "code",
   "execution_count": 6,
   "metadata": {},
   "outputs": [],
   "source": [
    "import numpy as np\n",
    "np.random.seed(42)\n",
    "import tensorflow as tf\n",
    "tf.set_random_seed(42)\n",
    "from keras.models import Sequential, load_model\n",
    "from keras.layers import Dense, Activation\n",
    "from keras.layers import LSTM, Dropout\n",
    "from keras.layers import TimeDistributed\n",
    "from keras.callbacks import ModelCheckpoint\n",
    "from keras.layers.core import Dense, Activation, Dropout, RepeatVector\n",
    "from keras.optimizers import RMSprop\n",
    "import matplotlib.pyplot as plt\n",
    "import pickle\n",
    "import sys\n",
    "import heapq\n",
    "import seaborn as sns\n",
    "from pylab import rcParams\n",
    "\n",
    "%matplotlib inline\n",
    "sns.set(style='whitegrid',palette='muted', font_scale=1.5)\n",
    "rcParams['figure.figsize']=12 , 5\n"
   ]
  },
  {
   "cell_type": "markdown",
   "metadata": {},
   "source": [
    "## Loading the Data\n",
    "We will use Friedrich Nietzsche’s Beyond Good and Evil as a training corpus for our model."
   ]
  },
  {
   "cell_type": "code",
   "execution_count": 7,
   "metadata": {},
   "outputs": [
    {
     "name": "stdout",
     "output_type": "stream",
     "text": [
      "Corpus length:  381443\n"
     ]
    }
   ],
   "source": [
    "path='nietzsche.txt'\n",
    "text=open(path).read().lower() #converting all text to lowercase\n",
    "print('Corpus length: ',len(text))"
   ]
  },
  {
   "cell_type": "markdown",
   "metadata": {},
   "source": [
    "## Preprocessing\n",
    "Let's find all unique chars in the corpus and create char to index and index to char maps:"
   ]
  },
  {
   "cell_type": "code",
   "execution_count": 8,
   "metadata": {},
   "outputs": [
    {
     "name": "stdout",
     "output_type": "stream",
     "text": [
      "unique chars:  52\n"
     ]
    }
   ],
   "source": [
    "chars = sorted(list(set(text)))\n",
    "char_indices = dict((c,i) for i, c in enumerate(chars))\n",
    "indices_char= dict((i ,c) for i, c in enumerate(chars))\n",
    "print('unique chars: ', len(chars))"
   ]
  },
  {
   "cell_type": "markdown",
   "metadata": {},
   "source": [
    "Next, let's cut the corpus into chunks of 40 characters, spacing the sequences by 3 characters. Additionally, we will store the next character(the one we need to predict) for every sequence:"
   ]
  },
  {
   "cell_type": "code",
   "execution_count": 9,
   "metadata": {},
   "outputs": [
    {
     "name": "stdout",
     "output_type": "stream",
     "text": [
      "Num training examples:  127135\n"
     ]
    }
   ],
   "source": [
    "SEQUENCE_LENGTH=40\n",
    "step=3\n",
    "sentences=[]\n",
    "next_chars=[]\n",
    "for i in range(0, len(text)-SEQUENCE_LENGTH, step):\n",
    "    sentences.append(text[i: i+SEQUENCE_LENGTH])\n",
    "    next_chars.append(text[i+SEQUENCE_LENGTH])\n",
    "\n",
    "print('Num training examples: ', len(sentences))"
   ]
  },
  {
   "cell_type": "markdown",
   "metadata": {},
   "source": [
    "Now we generate features and labels. We use previously generated sequences and characters that need to be predicted to create one hot encoded vectors."
   ]
  },
  {
   "cell_type": "code",
   "execution_count": 10,
   "metadata": {},
   "outputs": [],
   "source": [
    "X = np.zeros((len(sentences),SEQUENCE_LENGTH, len(chars)), dtype=np.bool)\n",
    "y=np.zeros((len(sentences),len(chars)), dtype=np.bool)\n",
    "for i, sentence in enumerate(sentences):\n",
    "    for t, char in enumerate(sentence):\n",
    "        X[i, t, char_indices[char]]=1\n",
    "    y[i, char_indices[next_chars[i]]]=1"
   ]
  },
  {
   "cell_type": "code",
   "execution_count": 11,
   "metadata": {},
   "outputs": [
    {
     "data": {
      "text/plain": [
       "'ve been unskilled and unseemly methods f'"
      ]
     },
     "execution_count": 11,
     "metadata": {},
     "output_type": "execute_result"
    }
   ],
   "source": [
    "sentences[100]"
   ]
  },
  {
   "cell_type": "code",
   "execution_count": 12,
   "metadata": {},
   "outputs": [
    {
     "data": {
      "text/plain": [
       "'o'"
      ]
     },
     "execution_count": 12,
     "metadata": {},
     "output_type": "execute_result"
    }
   ],
   "source": [
    "next_chars[100]"
   ]
  },
  {
   "cell_type": "code",
   "execution_count": 13,
   "metadata": {},
   "outputs": [
    {
     "data": {
      "text/plain": [
       "array([False, False, False, False, False, False, False, False, False,\n",
       "       False, False, False, False, False, False, False, False, False,\n",
       "       False, False, False, False, False, False, False, False, False,\n",
       "       False, False, False, False, False, False, False, False, False,\n",
       "       False, False, False, False, False,  True, False, False, False,\n",
       "       False, False, False, False, False, False, False])"
      ]
     },
     "execution_count": 13,
     "metadata": {},
     "output_type": "execute_result"
    }
   ],
   "source": [
    "X[0][0]"
   ]
  },
  {
   "cell_type": "code",
   "execution_count": 14,
   "metadata": {},
   "outputs": [
    {
     "data": {
      "text/plain": [
       "(127135, 40, 52)"
      ]
     },
     "execution_count": 14,
     "metadata": {},
     "output_type": "execute_result"
    }
   ],
   "source": [
    "X.shape"
   ]
  },
  {
   "cell_type": "code",
   "execution_count": 15,
   "metadata": {},
   "outputs": [
    {
     "data": {
      "text/plain": [
       "(127135, 52)"
      ]
     },
     "execution_count": 15,
     "metadata": {},
     "output_type": "execute_result"
    }
   ],
   "source": [
    "y.shape"
   ]
  },
  {
   "cell_type": "markdown",
   "metadata": {},
   "source": [
    "We have 127135 training examples, each sequence has length of 40 with 52 unique chars"
   ]
  },
  {
   "cell_type": "markdown",
   "metadata": {},
   "source": [
    "## Building the model\n",
    "We are going to train single LSTM layer with 128 neurons which accepts input of shape(40 - the length of a sequence , 52 - the number of unique chars in our dataset)."
   ]
  },
  {
   "cell_type": "code",
   "execution_count": 11,
   "metadata": {},
   "outputs": [
    {
     "name": "stdout",
     "output_type": "stream",
     "text": [
      "WARNING:tensorflow:From C:\\Users\\lkj45\\Anaconda3\\lib\\site-packages\\tensorflow\\python\\framework\\op_def_library.py:263: colocate_with (from tensorflow.python.framework.ops) is deprecated and will be removed in a future version.\n",
      "Instructions for updating:\n",
      "Colocations handled automatically by placer.\n"
     ]
    }
   ],
   "source": [
    "model = Sequential()\n",
    "model.add(LSTM(128, input_shape=(SEQUENCE_LENGTH, len(chars))))\n",
    "model.add(Dense(len(chars)))\n",
    "model.add(Activation('softmax'))"
   ]
  },
  {
   "cell_type": "markdown",
   "metadata": {},
   "source": [
    "## Training \n",
    "Model is trained for 20 epochs using RMSProp optimizer and uses 5% of the data for validation. However to save our time we will use 10 epochs."
   ]
  },
  {
   "cell_type": "code",
   "execution_count": 12,
   "metadata": {},
   "outputs": [
    {
     "name": "stdout",
     "output_type": "stream",
     "text": [
      "WARNING:tensorflow:From C:\\Users\\lkj45\\Anaconda3\\lib\\site-packages\\tensorflow\\python\\ops\\math_ops.py:3066: to_int32 (from tensorflow.python.ops.math_ops) is deprecated and will be removed in a future version.\n",
      "Instructions for updating:\n",
      "Use tf.cast instead.\n",
      "Train on 120778 samples, validate on 6357 samples\n",
      "Epoch 1/20\n",
      "120778/120778 [==============================] - 73s 601us/step - loss: 2.1191 - acc: 0.3838 - val_loss: 2.1143 - val_acc: 0.4186\n",
      "Epoch 2/20\n",
      "120778/120778 [==============================] - 81s 670us/step - loss: 1.7334 - acc: 0.4896 - val_loss: 1.9790 - val_acc: 0.4398\n",
      "Epoch 3/20\n",
      "120778/120778 [==============================] - 88s 728us/step - loss: 1.5964 - acc: 0.5247 - val_loss: 1.9223 - val_acc: 0.4502\n",
      "Epoch 4/20\n",
      "120778/120778 [==============================] - 89s 733us/step - loss: 1.5309 - acc: 0.5412 - val_loss: 1.8874 - val_acc: 0.4681\n",
      "Epoch 5/20\n",
      "120778/120778 [==============================] - 91s 752us/step - loss: 1.4857 - acc: 0.5526 - val_loss: 1.8825 - val_acc: 0.4697\n",
      "Epoch 6/20\n",
      "120778/120778 [==============================] - 84s 695us/step - loss: 1.4530 - acc: 0.5612 - val_loss: 1.8720 - val_acc: 0.4664\n",
      "Epoch 7/20\n",
      "120778/120778 [==============================] - 90s 742us/step - loss: 1.4283 - acc: 0.5672 - val_loss: 1.9120 - val_acc: 0.4692\n",
      "Epoch 8/20\n",
      "120778/120778 [==============================] - 90s 744us/step - loss: 1.4091 - acc: 0.5730 - val_loss: 1.9200 - val_acc: 0.4729\n",
      "Epoch 9/20\n",
      "120778/120778 [==============================] - 84s 699us/step - loss: 1.3896 - acc: 0.5782 - val_loss: 1.9383 - val_acc: 0.4644\n",
      "Epoch 10/20\n",
      "120778/120778 [==============================] - 88s 727us/step - loss: 1.3785 - acc: 0.5813 - val_loss: 1.9484 - val_acc: 0.4708\n",
      "Epoch 11/20\n",
      "120778/120778 [==============================] - 87s 723us/step - loss: 1.3643 - acc: 0.5865 - val_loss: 1.9411 - val_acc: 0.4623\n",
      "Epoch 12/20\n",
      "120778/120778 [==============================] - 88s 731us/step - loss: 1.3537 - acc: 0.5871 - val_loss: 1.9519 - val_acc: 0.4675\n",
      "Epoch 13/20\n",
      "120778/120778 [==============================] - 88s 732us/step - loss: 1.3440 - acc: 0.5898 - val_loss: 1.9658 - val_acc: 0.4692\n",
      "Epoch 14/20\n",
      "120778/120778 [==============================] - 88s 730us/step - loss: 1.3350 - acc: 0.5932 - val_loss: 1.9618 - val_acc: 0.4685\n",
      "Epoch 15/20\n",
      "120778/120778 [==============================] - 87s 717us/step - loss: 1.3288 - acc: 0.5938 - val_loss: 1.9248 - val_acc: 0.4689\n",
      "Epoch 16/20\n",
      "120778/120778 [==============================] - 92s 759us/step - loss: 1.3211 - acc: 0.5957 - val_loss: 1.9588 - val_acc: 0.4713\n",
      "Epoch 17/20\n",
      "120778/120778 [==============================] - 89s 736us/step - loss: 1.3130 - acc: 0.5985 - val_loss: 1.9603 - val_acc: 0.4721\n",
      "Epoch 18/20\n",
      "120778/120778 [==============================] - 91s 752us/step - loss: 1.3065 - acc: 0.6000 - val_loss: 1.9755 - val_acc: 0.4666\n",
      "Epoch 19/20\n",
      "120778/120778 [==============================] - 95s 784us/step - loss: 1.2999 - acc: 0.6015 - val_loss: 1.9722 - val_acc: 0.4741\n",
      "Epoch 20/20\n",
      "120778/120778 [==============================] - 92s 758us/step - loss: 1.2937 - acc: 0.6047 - val_loss: 1.9907 - val_acc: 0.4677\n"
     ]
    }
   ],
   "source": [
    "optimizer=RMSprop(lr=0.01)\n",
    "model.compile(loss='categorical_crossentropy', optimizer=optimizer, metrics=['accuracy'])\n",
    "\n",
    "#filepath=\"Weights-improvement-{epoch-02d}-{loss: .4f}.hdf5\"\n",
    "#checkpoint=ModelCheckpoint(filepath,monitor='loss',verbose=1, save_best_only=True, mode='min')\n",
    "#callbacks_list=[checkpoint]\n",
    "\n",
    "history = model.fit(X,y, validation_split=0.05, batch_size=128, epochs=20, shuffle=True).history"
   ]
  },
  {
   "cell_type": "markdown",
   "metadata": {},
   "source": [
    "## Saving\n",
    "First save progress:"
   ]
  },
  {
   "cell_type": "code",
   "execution_count": 13,
   "metadata": {},
   "outputs": [],
   "source": [
    "\n",
    "model.save('keras_model.h5')\n",
    "pickle.dump(history, open(\"history.p\",\"wb\"))"
   ]
  },
  {
   "cell_type": "markdown",
   "metadata": {},
   "source": [
    "Load it back:"
   ]
  },
  {
   "cell_type": "code",
   "execution_count": 16,
   "metadata": {},
   "outputs": [
    {
     "name": "stdout",
     "output_type": "stream",
     "text": [
      "WARNING:tensorflow:From C:\\Users\\lkj45\\Anaconda3\\lib\\site-packages\\tensorflow\\python\\framework\\op_def_library.py:263: colocate_with (from tensorflow.python.framework.ops) is deprecated and will be removed in a future version.\n",
      "Instructions for updating:\n",
      "Colocations handled automatically by placer.\n",
      "WARNING:tensorflow:From C:\\Users\\lkj45\\Anaconda3\\lib\\site-packages\\tensorflow\\python\\ops\\math_ops.py:3066: to_int32 (from tensorflow.python.ops.math_ops) is deprecated and will be removed in a future version.\n",
      "Instructions for updating:\n",
      "Use tf.cast instead.\n"
     ]
    }
   ],
   "source": [
    "model=load_model('keras_model.h5')\n",
    "history=pickle.load(open(\"history.p\",\"rb\"))"
   ]
  },
  {
   "cell_type": "markdown",
   "metadata": {},
   "source": [
    "## Evaluation\n",
    "Accuracy and loss change over training epochs:"
   ]
  },
  {
   "cell_type": "code",
   "execution_count": 17,
   "metadata": {},
   "outputs": [
    {
     "data": {
      "image/png": "[encoded data removed]",
      "text/plain": [
       "<Figure size 864x360 with 1 Axes>"
      ]
     },
     "metadata": {},
     "output_type": "display_data"
    }
   ],
   "source": [
    "plt.plot(history['acc'])\n",
    "plt.plot(history['val_acc'])\n",
    "plt.title('model accuracy')\n",
    "plt.ylabel('accuracy')\n",
    "plt.xlabel('epoch')\n",
    "plt.legend(['train','test'],loc='upper left');"
   ]
  },
  {
   "cell_type": "code",
   "execution_count": 18,
   "metadata": {},
   "outputs": [
    {
     "data": {
      "image/png": "[encoded data removed]",
      "text/plain": [
       "<Figure size 864x360 with 1 Axes>"
      ]
     },
     "metadata": {},
     "output_type": "display_data"
    }
   ],
   "source": [
    "plt.plot(history['loss'])\n",
    "plt.plot(history['val_loss'])\n",
    "plt.title('model loss')\n",
    "plt.ylabel('loss')\n",
    "plt.xlabel('epoch')\n",
    "plt.legend(['train','test'], loc='upper left');"
   ]
  },
  {
   "cell_type": "markdown",
   "metadata": {},
   "source": [
    "## Testing model \n",
    "Now we will predict words using our model. Design function to take input:"
   ]
  },
  {
   "cell_type": "code",
   "execution_count": 19,
   "metadata": {},
   "outputs": [],
   "source": [
    "def prepare_input(text):\n",
    "    x = np.zeros((1, SEQUENCE_LENGTH, len(chars)))\n",
    "\n",
    "    for t, char in enumerate(text):\n",
    "        x[0, t, char_indices[char]] = 1.\n",
    "        \n",
    "    return x"
   ]
  },
  {
   "cell_type": "markdown",
   "metadata": {},
   "source": [
    "Our sequence must be 40 characters long. Tensor with shape (1, 40, 52) , initialized with zeros. Then, a value of 1 is placed for each character in the passed text."
   ]
  },
  {
   "cell_type": "code",
   "execution_count": 20,
   "metadata": {},
   "outputs": [
    {
     "data": {
      "text/plain": [
       "array([[[0., 0., 0., ..., 0., 0., 0.],\n",
       "        [0., 0., 0., ..., 0., 0., 0.],\n",
       "        [0., 0., 0., ..., 0., 0., 0.],\n",
       "        ...,\n",
       "        [0., 0., 0., ..., 0., 0., 0.],\n",
       "        [0., 0., 0., ..., 0., 0., 0.],\n",
       "        [0., 0., 0., ..., 0., 0., 0.]]])"
      ]
     },
     "execution_count": 20,
     "metadata": {},
     "output_type": "execute_result"
    }
   ],
   "source": [
    "prepare_input(\"This is an example of input for our LSTM\".lower())"
   ]
  },
  {
   "cell_type": "code",
   "execution_count": 21,
   "metadata": {},
   "outputs": [],
   "source": [
    "def sample(preds, top_n=3):\n",
    "    preds = np.asarray(preds).astype('float64')\n",
    "    preds = np.log(preds)\n",
    "    exp_preds = np.exp(preds)\n",
    "    preds = exp_preds / np.sum(exp_preds)\n",
    "    \n",
    "    return heapq.nlargest(top_n, range(len(preds)), preds.take)"
   ]
  },
  {
   "cell_type": "markdown",
   "metadata": {},
   "source": [
    "The above function allows us to predict the next n most probable characters"
   ]
  },
  {
   "cell_type": "code",
   "execution_count": 22,
   "metadata": {},
   "outputs": [],
   "source": [
    "def predict_completion(text):\n",
    "    original_text = text\n",
    "    generated = text\n",
    "    completion = ''\n",
    "    while True:\n",
    "        x = prepare_input(text)\n",
    "        preds = model.predict(x, verbose=0)[0]\n",
    "        next_index = sample(preds, top_n=1)[0]\n",
    "        next_char = indices_char[next_index]\n",
    "\n",
    "        text = text[1:] + next_char\n",
    "        completion += next_char\n",
    "        \n",
    "        if len(original_text + completion) + 2 > len(original_text) and next_char == ' ':\n",
    "            return completion"
   ]
  },
  {
   "cell_type": "code",
   "execution_count": 23,
   "metadata": {},
   "outputs": [],
   "source": [
    "def predict_completions(text, n=3):\n",
    "    x = prepare_input(text)\n",
    "    preds = model.predict(x, verbose=0)[0]\n",
    "    next_indices = sample(preds, n)\n",
    "    return [indices_char[idx] + predict_completion(text[1:] + indices_char[idx]) for idx in next_indices]"
   ]
  },
  {
   "cell_type": "markdown",
   "metadata": {},
   "source": [
    "Now using sequences of 40 characters that we will use as seed for our completions. All of these quotes are from Friedrich Nietzsche :"
   ]
  },
  {
   "cell_type": "code",
   "execution_count": 24,
   "metadata": {},
   "outputs": [],
   "source": [
    "quotes = [\n",
    "    \"It is not a lack of love, but a lack of friendship that makes unhappy marriages.\",\n",
    "    \"That which does not kill us makes us stronger.\",\n",
    "    \"I'm not upset that you lied to me, I'm upset that from now on I can't believe you.\",\n",
    "    \"And those who were seen dancing were thought to be insane by those who could not hear the music.\",\n",
    "    \"It is hard enough to remember my opinions, without also remembering my reasons for them!\",\n",
    "    \"You only live once, but if you do it right, once is enough.\"\n",
    "]"
   ]
  },
  {
   "cell_type": "code",
   "execution_count": 25,
   "metadata": {},
   "outputs": [
    {
     "name": "stdout",
     "output_type": "stream",
     "text": [
      "it is not a lack of love, but a lack of \n",
      "['the ', 'all ', 'manners ', 'schopen ', 'his ']\n",
      "\n",
      "that which does not kill us makes us str\n",
      "['onger ', 'eng-development ', 'ange ', 'ives ', 'unges ']\n",
      "\n",
      "i'm not upset that you lied to me, i'm u\n",
      "['nder ', 'ponot ', 'tershes ', 'se ', 'less ']\n",
      "\n",
      "and those who were seen dancing were tho\n",
      "['se ', 'u ', 'rong! ', ' does ', 'ne ']\n",
      "\n",
      "it is hard enough to remember my opinion\n",
      "[' of ', ', ', 's, ', '\\nof ', '--and ']\n",
      "\n",
      "you only live once, but if you do it rig\n",
      "['ht ', 'idically ', 'anism, ', 'orous ', 'ent ']\n",
      "\n"
     ]
    }
   ],
   "source": [
    "for q in quotes:\n",
    "    seq=q[:40].lower()\n",
    "    print(seq)\n",
    "    print(predict_completions(seq, 5))\n",
    "    print()"
   ]
  },
  {
   "cell_type": "code",
   "execution_count": null,
   "metadata": {},
   "outputs": [],
   "source": []
  }
 ],
 "metadata": {
  "kernelspec": {
   "display_name": "Python 3",
   "language": "python",
   "name": "python3"
  },
  "language_info": {
   "codemirror_mode": {
    "name": "ipython",
    "version": 3
   },
   "file_extension": ".py",
   "mimetype": "text/x-python",
   "name": "python",
   "nbconvert_exporter": "python",
   "pygments_lexer": "ipython3",
   "version": "3.6.8"
  },
  "widgets": {
   "application/vnd.jupyter.widget-state+json": {
    "state": {},
    "version_major": 2,
    "version_minor": 0
   }
  }
 },
 "nbformat": 4,
 "nbformat_minor": 2
}
